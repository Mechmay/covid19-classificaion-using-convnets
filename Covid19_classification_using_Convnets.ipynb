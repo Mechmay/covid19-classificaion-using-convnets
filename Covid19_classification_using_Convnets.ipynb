{
  "nbformat": 4,
  "nbformat_minor": 0,
  "metadata": {
    "colab": {
      "name": "Covid19-classification-using-Convnets.ipynb",
      "provenance": [],
      "authorship_tag": "ABX9TyN43LFwY2KtgrM5efhBRi4W"
    },
    "kernelspec": {
      "name": "python3",
      "display_name": "Python 3"
    },
    "language_info": {
      "name": "python"
    }
  },
  "cells": [
    {
      "cell_type": "code",
      "metadata": {
        "colab": {
          "base_uri": "https://localhost:8080/"
        },
        "id": "vbP0-iP0aplA",
        "outputId": "2cacbe9d-0c42-4f4c-fff3-7ae9e36db0f9"
      },
      "source": [
        "from google.colab import drive\n",
        "drive.mount('/content/drive')"
      ],
      "execution_count": 1,
      "outputs": [
        {
          "output_type": "stream",
          "text": [
            "Mounted at /content/drive\n"
          ],
          "name": "stdout"
        }
      ]
    },
    {
      "cell_type": "code",
      "metadata": {
        "id": "MpqC0YUoa7dr"
      },
      "source": [
        "train_data_dir = '/content/drive/MyDrive/Colab_Notebooks/Deep Learning/Build deep learning models with tensorflow/Image Classification/classification-challenge.zip (Unzipped Files)/Covid19-identification/classification-challenge.zip (Unzipped Files)/classification-challenge/classification-challenge-starter/Covid19-dataset/train'\n",
        "validation_data_dir = '/content/drive/MyDrive/Colab_Notebooks/Deep Learning/Build deep learning models with tensorflow/Image Classification/classification-challenge.zip (Unzipped Files)/Covid19-identification/classification-challenge.zip (Unzipped Files)/classification-challenge/classification-challenge-starter/Covid19-dataset/test'"
      ],
      "execution_count": 2,
      "outputs": []
    },
    {
      "cell_type": "code",
      "metadata": {
        "colab": {
          "base_uri": "https://localhost:8080/"
        },
        "id": "0RLstA5zb-07",
        "outputId": "fede0a63-7702-4752-b50a-7b954c0ee684"
      },
      "source": [
        "from tensorflow.keras.preprocessing.image import ImageDataGenerator\n",
        "import tensorflow as tf\n",
        "\n",
        "BATCH_SIZE = 16\n",
        "\n",
        "# Data augmentation and prerocessing \n",
        "print(\"\\nLoading training data...\")\n",
        "\n",
        "training_data_generator = ImageDataGenerator(\n",
        "        rescale=1./255,\n",
        "        zoom_range=0.2,\n",
        "        rotation_range=15,\n",
        "        width_shift_range=0.05,\n",
        "        height_shift_range=0.05)\n",
        "\n",
        "training_iterator = training_data_generator.flow_from_directory(train_data_dir,class_mode='categorical',color_mode='grayscale',batch_size=BATCH_SIZE)\n",
        "\n",
        "\n",
        "print(\"\\nLoading validation data...\")\n",
        "\n",
        "#1) Create validation_data_generator, an ImageDataGenerator that just performs pixel normalization:\n",
        "\n",
        "\n",
        "validation_data_generator = ImageDataGenerator(rescale = 1./255)\n",
        "#2) Use validation_data_generator.flow_from_directory(...) to load the validation data from the 'data/test' folder:\n",
        "\n",
        "validation_iterator = validation_data_generator.flow_from_directory(validation_data_dir, class_mode = 'categorical', color_mode = 'grayscale', batch_size = BATCH_SIZE)\n",
        "\n",
        "print(\"\\nBuilding model...\")\n",
        "\n",
        "#Creating the model, with convolutional and max pooling layers:\n",
        "\n",
        "model = tf.keras.Sequential()\n",
        "# Our input feature map is 256x256x1: 256x256 for the image pixels, and 1 for\n",
        "# the color channel: grayscale\n",
        "model.add(tf.keras.Input(shape=(256, 256, 1)))\n",
        "\n",
        "# First convolution extracts 2 filters that are 5x5\n",
        "# Convolution is followed by max-pooling layer with a 5x5 window\n",
        "model.add(tf.keras.layers.Conv2D(128, 5, strides=2, activation=\"relu\")) \n",
        "model.add(tf.keras.layers.MaxPooling2D(\n",
        "    pool_size=(5, 5), strides=(5,5)))\n",
        "\n",
        "# # Second convolution extracts 4 filters that are 5x5\n",
        "# Convolution is followed by max-pooling layer with a 5x5 window\n",
        "model.add(tf.keras.layers.Conv2D(64, 5, strides=1, activation=\"relu\")) \n",
        "model.add(tf.keras.layers.MaxPooling2D(\n",
        "    pool_size=(3, 3), strides=(3,3)))\n",
        "model.add(tf.keras.layers.Dropout(0.3))\n",
        "\n",
        "model.add(tf.keras.layers.Conv2D(32, 5, strides=1, activation=\"relu\")) \n",
        "model.add(tf.keras.layers.MaxPooling2D(\n",
        "    pool_size=(2, 2), strides=(3,3)))\n",
        "model.add(tf.keras.layers.Dropout(0.3))\n",
        "\n",
        "# Flatten feature map to a 1-dim tensor\n",
        "model.add(tf.keras.layers.Flatten())\n",
        "\n",
        "model.add(tf.keras.layers.Dropout(0.3))\n",
        "\n",
        "# Create output layer with a single node and softmax activation\n",
        "model.add(tf.keras.layers.Dense(2,activation=\"softmax\"))\n",
        "\n",
        "model.summary()\n",
        "\n",
        "\n",
        "print(\"\\nCompiling model...\")\n",
        "\n",
        "#3) Compile the model with an Adam optimizer, Categorical Cross Entropy Loss, and Accuracy and AUC metrics:\n",
        "opt = tf.keras.optimizers.Adam(learning_rate = 0.005)\n",
        "loss = tf.keras.losses.CategoricalCrossentropy()\n",
        "model.compile(\n",
        "    optimizer=opt,\n",
        "    loss=loss,\n",
        "    metrics=[tf.keras.metrics.CategoricalAccuracy(),tf.keras.metrics.AUC()]\n",
        ")\n",
        "\n",
        "print(\"\\nTraining model...\")\n",
        "\n",
        "#4) train and validate model for 5 epochs:\n",
        "\n",
        "history = model.fit(\n",
        "        training_iterator,\n",
        "        steps_per_epoch=training_iterator.samples/BATCH_SIZE,\n",
        "        epochs=20,\n",
        "        validation_data=validation_iterator,\n",
        "        validation_steps=validation_iterator.samples/BATCH_SIZE)"
      ],
      "execution_count": 17,
      "outputs": [
        {
          "output_type": "stream",
          "text": [
            "\n",
            "Loading training data...\n",
            "Found 181 images belonging to 2 classes.\n",
            "\n",
            "Loading validation data...\n",
            "Found 46 images belonging to 2 classes.\n",
            "\n",
            "Building model...\n",
            "Model: \"sequential_5\"\n",
            "_________________________________________________________________\n",
            "Layer (type)                 Output Shape              Param #   \n",
            "=================================================================\n",
            "conv2d_22 (Conv2D)           (None, 126, 126, 128)     3328      \n",
            "_________________________________________________________________\n",
            "max_pooling2d_15 (MaxPooling (None, 25, 25, 128)       0         \n",
            "_________________________________________________________________\n",
            "conv2d_23 (Conv2D)           (None, 21, 21, 64)        204864    \n",
            "_________________________________________________________________\n",
            "max_pooling2d_16 (MaxPooling (None, 7, 7, 64)          0         \n",
            "_________________________________________________________________\n",
            "dropout_15 (Dropout)         (None, 7, 7, 64)          0         \n",
            "_________________________________________________________________\n",
            "conv2d_24 (Conv2D)           (None, 3, 3, 32)          51232     \n",
            "_________________________________________________________________\n",
            "max_pooling2d_17 (MaxPooling (None, 1, 1, 32)          0         \n",
            "_________________________________________________________________\n",
            "dropout_16 (Dropout)         (None, 1, 1, 32)          0         \n",
            "_________________________________________________________________\n",
            "flatten_5 (Flatten)          (None, 32)                0         \n",
            "_________________________________________________________________\n",
            "dropout_17 (Dropout)         (None, 32)                0         \n",
            "_________________________________________________________________\n",
            "dense_5 (Dense)              (None, 2)                 66        \n",
            "=================================================================\n",
            "Total params: 259,490\n",
            "Trainable params: 259,490\n",
            "Non-trainable params: 0\n",
            "_________________________________________________________________\n",
            "\n",
            "Compiling model...\n",
            "\n",
            "Training model...\n",
            "Epoch 1/20\n",
            "11/11 [==============================] - 10s 832ms/step - loss: 0.8546 - categorical_accuracy: 0.5319 - auc_5: 0.4898 - val_loss: 0.6863 - val_categorical_accuracy: 0.5652 - val_auc_5: 0.6262\n",
            "Epoch 2/20\n",
            "11/11 [==============================] - 9s 771ms/step - loss: 0.6933 - categorical_accuracy: 0.6045 - auc_5: 0.5792 - val_loss: 0.6865 - val_categorical_accuracy: 0.5652 - val_auc_5: 0.4750\n",
            "Epoch 3/20\n",
            "11/11 [==============================] - 8s 690ms/step - loss: 0.6697 - categorical_accuracy: 0.5812 - auc_5: 0.6176 - val_loss: 0.6506 - val_categorical_accuracy: 0.5652 - val_auc_5: 0.7216\n",
            "Epoch 4/20\n",
            "11/11 [==============================] - 8s 680ms/step - loss: 0.6353 - categorical_accuracy: 0.6149 - auc_5: 0.6603 - val_loss: 0.5578 - val_categorical_accuracy: 0.9348 - val_auc_5: 0.9145\n",
            "Epoch 5/20\n",
            "11/11 [==============================] - 8s 694ms/step - loss: 0.5228 - categorical_accuracy: 0.7145 - auc_5: 0.8152 - val_loss: 0.4159 - val_categorical_accuracy: 0.9130 - val_auc_5: 0.9641\n",
            "Epoch 6/20\n",
            "11/11 [==============================] - 8s 689ms/step - loss: 0.5230 - categorical_accuracy: 0.7448 - auc_5: 0.8136 - val_loss: 0.3980 - val_categorical_accuracy: 0.9783 - val_auc_5: 0.9844\n",
            "Epoch 7/20\n",
            "11/11 [==============================] - 8s 687ms/step - loss: 0.4486 - categorical_accuracy: 0.8219 - auc_5: 0.8784 - val_loss: 0.3596 - val_categorical_accuracy: 0.8261 - val_auc_5: 0.9159\n",
            "Epoch 8/20\n",
            "11/11 [==============================] - 8s 676ms/step - loss: 0.5197 - categorical_accuracy: 0.7578 - auc_5: 0.8498 - val_loss: 0.2873 - val_categorical_accuracy: 0.9565 - val_auc_5: 0.9920\n",
            "Epoch 9/20\n",
            "11/11 [==============================] - 8s 696ms/step - loss: 0.5231 - categorical_accuracy: 0.7845 - auc_5: 0.8599 - val_loss: 0.3407 - val_categorical_accuracy: 0.8913 - val_auc_5: 0.9471\n",
            "Epoch 10/20\n",
            "11/11 [==============================] - 8s 690ms/step - loss: 0.4542 - categorical_accuracy: 0.8407 - auc_5: 0.8824 - val_loss: 0.3104 - val_categorical_accuracy: 0.8913 - val_auc_5: 0.9353\n",
            "Epoch 11/20\n",
            "11/11 [==============================] - 8s 733ms/step - loss: 0.3581 - categorical_accuracy: 0.8959 - auc_5: 0.9281 - val_loss: 0.3316 - val_categorical_accuracy: 0.8913 - val_auc_5: 0.9263\n",
            "Epoch 12/20\n",
            "11/11 [==============================] - 8s 699ms/step - loss: 0.5076 - categorical_accuracy: 0.8416 - auc_5: 0.8735 - val_loss: 0.2784 - val_categorical_accuracy: 0.8913 - val_auc_5: 0.9518\n",
            "Epoch 13/20\n",
            "11/11 [==============================] - 8s 694ms/step - loss: 0.3030 - categorical_accuracy: 0.8742 - auc_5: 0.9573 - val_loss: 0.1551 - val_categorical_accuracy: 0.9348 - val_auc_5: 0.9939\n",
            "Epoch 14/20\n",
            "11/11 [==============================] - 8s 687ms/step - loss: 0.3855 - categorical_accuracy: 0.7988 - auc_5: 0.9085 - val_loss: 0.3440 - val_categorical_accuracy: 0.8261 - val_auc_5: 0.9194\n",
            "Epoch 15/20\n",
            "11/11 [==============================] - 8s 683ms/step - loss: 0.3731 - categorical_accuracy: 0.8118 - auc_5: 0.9090 - val_loss: 0.1939 - val_categorical_accuracy: 0.9348 - val_auc_5: 0.9939\n",
            "Epoch 16/20\n",
            "11/11 [==============================] - 8s 676ms/step - loss: 0.2586 - categorical_accuracy: 0.8958 - auc_5: 0.9696 - val_loss: 0.1947 - val_categorical_accuracy: 0.9348 - val_auc_5: 0.9787\n",
            "Epoch 17/20\n",
            "11/11 [==============================] - 8s 682ms/step - loss: 0.2580 - categorical_accuracy: 0.9010 - auc_5: 0.9640 - val_loss: 0.3088 - val_categorical_accuracy: 0.8913 - val_auc_5: 0.9511\n",
            "Epoch 18/20\n",
            "11/11 [==============================] - 8s 738ms/step - loss: 0.3438 - categorical_accuracy: 0.8850 - auc_5: 0.9276 - val_loss: 0.1406 - val_categorical_accuracy: 0.9565 - val_auc_5: 0.9943\n",
            "Epoch 19/20\n",
            "11/11 [==============================] - 8s 679ms/step - loss: 0.2798 - categorical_accuracy: 0.8655 - auc_5: 0.9542 - val_loss: 0.1236 - val_categorical_accuracy: 0.9783 - val_auc_5: 0.9983\n",
            "Epoch 20/20\n",
            "11/11 [==============================] - 8s 684ms/step - loss: 0.2408 - categorical_accuracy: 0.9106 - auc_5: 0.9679 - val_loss: 0.2595 - val_categorical_accuracy: 0.9130 - val_auc_5: 0.9612\n"
          ],
          "name": "stdout"
        }
      ]
    },
    {
      "cell_type": "code",
      "metadata": {
        "colab": {
          "base_uri": "https://localhost:8080/"
        },
        "id": "RWjOjzv2dVt8",
        "outputId": "53621b74-903f-4349-c316-c2a51e2509f3"
      },
      "source": [
        "from sklearn.metrics import classification_report\n",
        "from sklearn.metrics import confusion_matrix\n",
        "import matplotlib.pyplot as plt\n",
        "import numpy as numpy\n",
        "test_steps_per_epoch = numpy.math.ceil(validation_iterator.samples / validation_iterator.batch_size)\n",
        "predictions = model.predict(validation_iterator, steps=test_steps_per_epoch)\n",
        "test_steps_per_epoch = numpy.math.ceil(validation_iterator.samples / validation_iterator.batch_size)\n",
        "predicted_classes = numpy.argmax(predictions, axis=1)\n",
        "true_classes = validation_iterator.classes\n",
        "class_labels = list(validation_iterator.class_indices.keys())\n",
        "report = classification_report(true_classes, predicted_classes, target_names=class_labels)\n",
        "print(report)   \n",
        " \n",
        "cm=confusion_matrix(true_classes,predicted_classes)\n",
        "print(cm)\n"
      ],
      "execution_count": 18,
      "outputs": [
        {
          "output_type": "stream",
          "text": [
            "              precision    recall  f1-score   support\n",
            "\n",
            "       Covid       0.64      0.54      0.58        26\n",
            "      Normal       0.50      0.60      0.55        20\n",
            "\n",
            "    accuracy                           0.57        46\n",
            "   macro avg       0.57      0.57      0.56        46\n",
            "weighted avg       0.58      0.57      0.57        46\n",
            "\n",
            "[[14 12]\n",
            " [ 8 12]]\n"
          ],
          "name": "stdout"
        }
      ]
    },
    {
      "cell_type": "code",
      "metadata": {
        "colab": {
          "base_uri": "https://localhost:8080/",
          "height": 182
        },
        "id": "8_Upinaddb0A",
        "outputId": "91a50af8-a59e-4bd4-82ac-a8cb3aaa6357"
      },
      "source": [
        "# plotting categorical and validation accuracy over epochs\n",
        "fig = plt.figure()\n",
        "ax1 = fig.add_subplot(2, 1, 1)\n",
        "ax1.plot(history.history['categorical_accuracy'])\n",
        "ax1.plot(history.history['val_categorical_accuracy'])\n",
        "ax1.set_title('model accuracy')\n",
        "ax1.set_xlabel('epoch')\n",
        "ax1.set_ylabel('accuracy')\n",
        "ax1.legend(['train', 'validation'], loc='upper left')\n",
        " \n",
        "# used to keep plots from overlapping\n",
        "fig.tight_layout()\n",
        "plt.show()\n",
        "# fig.savefig('static/images/my_plots.png')"
      ],
      "execution_count": 21,
      "outputs": [
        {
          "output_type": "display_data",
          "data": {
            "image/png": "[encoded data removed]",
            "text/plain": [
              "<Figure size 432x288 with 1 Axes>"
            ]
          },
          "metadata": {
            "tags": [],
            "needs_background": "light"
          }
        }
      ]
    }
  ]
}